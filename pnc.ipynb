{
 "cells": [
  {
   "cell_type": "code",
   "execution_count": 1,
   "metadata": {},
   "outputs": [],
   "source": [
    "from llama_index.core import VectorStoreIndex, SimpleDirectoryReader, Settings\n",
    "from llama_index.embeddings.huggingface import HuggingFaceEmbedding\n",
    "from llama_index.llms.ollama import Ollama"
   ]
  },
  {
   "cell_type": "code",
   "execution_count": 2,
   "metadata": {},
   "outputs": [],
   "source": [
    "documents = SimpleDirectoryReader(\"pnc\").load_data()"
   ]
  },
  {
   "cell_type": "code",
   "execution_count": 3,
   "metadata": {},
   "outputs": [],
   "source": [
    "# bge-base embedding model\n",
    "Settings.embed_model = HuggingFaceEmbedding(model_name=\"BAAI/bge-base-en-v1.5\")"
   ]
  },
  {
   "cell_type": "code",
   "execution_count": 4,
   "metadata": {},
   "outputs": [],
   "source": [
    "# ollama\n",
    "Settings.llm = Ollama(model=\"llama3.1\", request_timeout=360.0)"
   ]
  },
  {
   "cell_type": "code",
   "execution_count": 5,
   "metadata": {},
   "outputs": [],
   "source": [
    "index = VectorStoreIndex.from_documents(\n",
    "    documents,\n",
    ")"
   ]
  },
  {
   "cell_type": "code",
   "execution_count": 6,
   "metadata": {},
   "outputs": [],
   "source": [
    "query_engine = index.as_query_engine()"
   ]
  },
  {
   "cell_type": "code",
   "execution_count": 7,
   "metadata": {},
   "outputs": [
    {
     "name": "stdout",
     "output_type": "stream",
     "text": [
      "William S. Demchak\n"
     ]
    }
   ],
   "source": [
    "response = query_engine.query(\"Who is PNC Chairman?\")\n",
    "print(response)"
   ]
  },
  {
   "cell_type": "code",
   "execution_count": 8,
   "metadata": {},
   "outputs": [
    {
     "name": "stdout",
     "output_type": "stream",
     "text": [
      "Bryan S. Salesky is a co-founder and serves as the CEO of Stack AV Co., a developer and builder of autonomous trucking solutions to improve the safety and efficiency of modern freight and supply chain systems. Prior to his role with Stack AV, in 2016 Mr. Salesky co-founded and served as CEO of Argo AI, LLC, a self-driving technology platform company that partnered with leading automakers to develop the software, hardware, maps and cloud-support infrastructure to power self-driving vehicles.\n"
     ]
    }
   ],
   "source": [
    "response = query_engine.query(\"Tell me about Bryan Salesky work experiance.\")\n",
    "print(response)"
   ]
  },
  {
   "cell_type": "code",
   "execution_count": 9,
   "metadata": {},
   "outputs": [
    {
     "name": "stdout",
     "output_type": "stream",
     "text": [
      "PNC collects and shares customers' personal information for various purposes, including processing transactions, maintaining accounts, conducting portfolio analysis, responding to court orders and legal investigations, and reporting to credit bureaus. They also use this information for marketing purposes, such as offering products and services to customers.\n"
     ]
    }
   ],
   "source": [
    "response = query_engine.query(\"What does PNC do with customer personal information?\")\n",
    "print(response)"
   ]
  },
  {
   "cell_type": "code",
   "execution_count": 10,
   "metadata": {},
   "outputs": [
    {
     "name": "stdout",
     "output_type": "stream",
     "text": [
      "$12.79 per diluted share.\n"
     ]
    }
   ],
   "source": [
    "response = query_engine.query(\"What was PNC diluted earnings per common share in 2023?\")\n",
    "print(response)"
   ]
  },
  {
   "cell_type": "code",
   "execution_count": 11,
   "metadata": {},
   "outputs": [
    {
     "name": "stdout",
     "output_type": "stream",
     "text": [
      "PNC generated record revenue of $21.5 billion in 2023, which is a notable achievement. This suggests that the company's revenue performance in 2023 was particularly strong compared to previous years.\n"
     ]
    }
   ],
   "source": [
    "response = query_engine.query(\"How good PNC revenue was in 2023 compared to previous years?\")\n",
    "print(response)"
   ]
  },
  {
   "cell_type": "code",
   "execution_count": 12,
   "metadata": {},
   "outputs": [
    {
     "name": "stdout",
     "output_type": "stream",
     "text": [
      "I'm happy to help! Unfortunately, I don't have that information. The data provided only includes information up to December 31, 2023. It is not possible for me to provide the requested table as it would be based on future financial statements which are not yet available.\n",
      "\n",
      "However, you can infer from the context that the PNC Financial Services Group typically releases its annual Form 10-K filing by March of each year. If this pattern holds true for 2024, then you may see data up to December 31, 2024 in their next 10-K filing.\n"
     ]
    }
   ],
   "source": [
    "response = query_engine.query(\"Can you print a table showing PNC Revenue, Net Income and Total Non-interst Expenses for first two quarters of 2024?\")\n",
    "print(response)"
   ]
  }
 ],
 "metadata": {
  "kernelspec": {
   "display_name": "doc-qa-2rNuKClW",
   "language": "python",
   "name": "python3"
  },
  "language_info": {
   "codemirror_mode": {
    "name": "ipython",
    "version": 3
   },
   "file_extension": ".py",
   "mimetype": "text/x-python",
   "name": "python",
   "nbconvert_exporter": "python",
   "pygments_lexer": "ipython3",
   "version": "3.12.3"
  }
 },
 "nbformat": 4,
 "nbformat_minor": 2
}
