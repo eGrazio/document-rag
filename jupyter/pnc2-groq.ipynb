{
 "cells": [
  {
   "cell_type": "code",
   "execution_count": 1,
   "metadata": {},
   "outputs": [],
   "source": [
    "from pathlib import Path"
   ]
  },
  {
   "cell_type": "code",
   "execution_count": 2,
   "metadata": {},
   "outputs": [],
   "source": [
    "from llama_index.core import VectorStoreIndex, SimpleDirectoryReader, Settings\n",
    "from llama_index.embeddings.huggingface import HuggingFaceEmbedding\n",
    "from llama_index.llms.groq import Groq\n",
    "from llama_index.readers.file import PDFReader, PyMuPDFReader\n"
   ]
  },
  {
   "cell_type": "code",
   "execution_count": 3,
   "metadata": {},
   "outputs": [],
   "source": [
    "file_details = {\n",
    "    \"2Q24 Earnings Release_Final.pdf\": \"2nd quarter 2024 earnings release Final of PNC Bank with detailed financial information for first two quarters of year 2024.\",\n",
    "    \"2Q24 Financial Supplement_Final.pdf\": \"Supplemental data for 2nd quarter 2024 earnings release Final of PNC Bank with financial tables.\",\n",
    "    \"Board of Directors  PNC.pdf\": \"PNC Bank Board of Directors member information.\",\n",
    "    \"PNC 2023 10-K.pdf\": \"PNC Bank Form 10-K report for year 2023.\",\n",
    "    \"PNC 2023 Annual Report.pdf\": \"PNC Bank detailed Annual Report for year 2023.\",\n",
    "    \"pnc_privacy_notice.pdf\": \"Information on what kind of customer personal information PNC Bank share and not.\",\n",
    "}\n",
    "def get_meta(filename):\n",
    "    return {\n",
    "        \"file_path\": filename,\n",
    "        \"file_details\": file_details.get(\n",
    "            Path(filename).name, \"\"\n",
    "        ),\n",
    "    }"
   ]
  },
  {
   "cell_type": "code",
   "execution_count": 4,
   "metadata": {},
   "outputs": [],
   "source": [
    "# PDF Reader with `SimpleDirectoryReader`\n",
    "parser = PyMuPDFReader()\n",
    "file_extractor = {\".pdf\": parser}\n",
    "documents = SimpleDirectoryReader(\"./data\", file_extractor=file_extractor).load_data()"
   ]
  },
  {
   "cell_type": "code",
   "execution_count": 5,
   "metadata": {},
   "outputs": [],
   "source": [
    "documents = SimpleDirectoryReader(\n",
    "    \"./pnc\", file_metadata=get_meta, file_extractor=file_extractor\n",
    ").load_data()"
   ]
  },
  {
   "cell_type": "code",
   "execution_count": 6,
   "metadata": {},
   "outputs": [],
   "source": [
    "# bge-base embedding model\n",
    "Settings.embed_model = HuggingFaceEmbedding(model_name=\"BAAI/bge-base-en-v1.5\")"
   ]
  },
  {
   "cell_type": "code",
   "execution_count": 7,
   "metadata": {},
   "outputs": [],
   "source": [
    "# Groq\n",
    "Settings.llm = Groq(\n",
    "    model=\"llama-3.1-8b-instant\"\n",
    ")"
   ]
  },
  {
   "cell_type": "code",
   "execution_count": 8,
   "metadata": {},
   "outputs": [],
   "source": [
    "index = VectorStoreIndex.from_documents(\n",
    "    documents,\n",
    ")"
   ]
  },
  {
   "cell_type": "code",
   "execution_count": 9,
   "metadata": {},
   "outputs": [],
   "source": [
    "query_engine = index.as_query_engine()"
   ]
  },
  {
   "cell_type": "code",
   "execution_count": 10,
   "metadata": {},
   "outputs": [
    {
     "name": "stdout",
     "output_type": "stream",
     "text": [
      "William S. Demchak is the Chairman & Chief Executive Officer of The PNC Financial Services Group. \n",
      "\n",
      "This information can be found in the document where it is stated that \"William S. Demchak is chairman and chief executive officer of The PNC Financial Services Group, one of the largest diversified financial services companies in the United States.\"\n"
     ]
    }
   ],
   "source": [
    "response = query_engine.query(\n",
    "    \"Who is PNC Chairman? Provide evidence from documents to support your answer.\"\n",
    ")\n",
    "print(response)"
   ]
  },
  {
   "cell_type": "code",
   "execution_count": 11,
   "metadata": {},
   "outputs": [
    {
     "name": "stdout",
     "output_type": "stream",
     "text": [
      "Bryan Salesky has a significant work experience in the technology sector. He co-founded and served as the CEO of Stack AV Co., a developer of autonomous trucking solutions. Prior to this role, he co-founded and served as the CEO of Argo AI, LLC, a self-driving technology platform company. Additionally, he spent over a decade in various roles at leading technology companies, including Google and Carnegie Mellon University's National Robotics Engineering Center (NREC).\n"
     ]
    }
   ],
   "source": [
    "response = query_engine.query(\"Tell me about Bryan Salesky work experiance.\")\n",
    "print(response)"
   ]
  },
  {
   "cell_type": "code",
   "execution_count": 12,
   "metadata": {},
   "outputs": [
    {
     "name": "stdout",
     "output_type": "stream",
     "text": [
      "PNC collects and shares customer personal information for various purposes. The types of personal information collected and shared depend on the product or service a customer has with PNC. This information can include social security numbers, income, account balances, account transactions, credit scores, and payment history.\n"
     ]
    }
   ],
   "source": [
    "response = query_engine.query(\"What does PNC do with customer personal information?\")\n",
    "print(response)"
   ]
  },
  {
   "cell_type": "code",
   "execution_count": 13,
   "metadata": {},
   "outputs": [
    {
     "name": "stdout",
     "output_type": "stream",
     "text": [
      "According to the provided information, PNC diluted earnings per common share in 2023 was $12.79. This can be found in the \"Basic and Diluted Earnings Per Common Share\" table in the 10-K report for 2023, specifically in the \"Diluted\" section.\n"
     ]
    }
   ],
   "source": [
    "response = query_engine.query(\n",
    "    \"What was PNC diluted earnings per common share in 2023? Provide evidence from documents to support your answer.\"\n",
    ")\n",
    "print(response)"
   ]
  },
  {
   "cell_type": "code",
   "execution_count": 14,
   "metadata": {},
   "outputs": [
    {
     "name": "stdout",
     "output_type": "stream",
     "text": [
      "PNC generated record revenue of $21.5 billion in 2023, which is a significant improvement from previous years.\n"
     ]
    }
   ],
   "source": [
    "response = query_engine.query(\n",
    "    \"How good PNC revenue was in 2023 compared to previous years?\"\n",
    ")\n",
    "print(response)"
   ]
  },
  {
   "cell_type": "code",
   "execution_count": 15,
   "metadata": {},
   "outputs": [
    {
     "name": "stdout",
     "output_type": "stream",
     "text": [
      "Unfortunately, the provided context information does not contain any data for the first two quarters of 2024. The data available is for the year 2023, and it does not include any projections or forecasts for future periods.\n",
      "\n",
      "However, I can provide a table showing the PNC Revenue, Net Income, and Total Non-interest Expenses for the year 2023, as reported in the provided documents.\n",
      "\n",
      "| Year | Revenue | Net Income | Total Non-interest Expenses |\n",
      "| --- | --- | --- | --- |\n",
      "| 2023 | $21,490 million | $5,647 million | $14,012 million |\n",
      "\n",
      "Please note that this information is based on the provided documents and may not reflect the actual performance of PNC Financial Services Group, Inc. for the year 2023 or any future periods.\n"
     ]
    }
   ],
   "source": [
    "response = query_engine.query(\"Can you print a table showing PNC Revenue, Net Income and Total Non-interst Expenses for first two quarters of 2024? Provide evidence from documents to support your answer.\")\n",
    "print(response)"
   ]
  },
  {
   "cell_type": "code",
   "execution_count": null,
   "metadata": {},
   "outputs": [],
   "source": []
  }
 ],
 "metadata": {
  "kernelspec": {
   "display_name": "Python 3 (ipykernel)",
   "language": "python",
   "name": "python3"
  },
  "language_info": {
   "codemirror_mode": {
    "name": "ipython",
    "version": 3
   },
   "file_extension": ".py",
   "mimetype": "text/x-python",
   "name": "python",
   "nbconvert_exporter": "python",
   "pygments_lexer": "ipython3",
   "version": "3.11.10"
  }
 },
 "nbformat": 4,
 "nbformat_minor": 4
}
