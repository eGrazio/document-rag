{
 "cells": [
  {
   "cell_type": "code",
   "execution_count": 1,
   "metadata": {},
   "outputs": [],
   "source": [
    "from pathlib import Path\n",
    "import os"
   ]
  },
  {
   "cell_type": "code",
   "execution_count": 2,
   "metadata": {},
   "outputs": [],
   "source": [
    "from openinference.instrumentation.llama_index import LlamaIndexInstrumentor\n",
    "from opentelemetry.exporter.otlp.proto.http.trace_exporter import OTLPSpanExporter\n",
    "from opentelemetry.sdk import trace as trace_sdk\n",
    "from opentelemetry.sdk.trace.export import SimpleSpanProcessor"
   ]
  },
  {
   "cell_type": "code",
   "execution_count": 3,
   "metadata": {},
   "outputs": [],
   "source": [
    "from llama_index.core import VectorStoreIndex, SimpleDirectoryReader, Settings, StorageContext\n",
    "from llama_index.embeddings.huggingface import HuggingFaceEmbedding\n",
    "from llama_index.llms.groq import Groq\n",
    "from llama_index.readers.file import PDFReader, PyMuPDFReader\n",
    "# from llama_index.storage.docstore.redis import RedisDocumentStore\n",
    "# from llama_index.storage.index_store.redis import RedisIndexStore\n",
    "# from llama_index.vector_stores.redis import RedisVectorStore\n",
    "from llama_index.core.node_parser import SentenceSplitter\n",
    "\n",
    "# from redis import Redis\n",
    "# from redisvl.schema import IndexSchema"
   ]
  },
  {
   "cell_type": "code",
   "execution_count": 4,
   "metadata": {},
   "outputs": [],
   "source": [
    "# REDIS_HOST = os.getenv(\"REDIS_HOST\", \"127.0.0.1\")\n",
    "# REDIS_PORT = os.getenv(\"REDIS_PORT\", 6379)"
   ]
  },
  {
   "cell_type": "code",
   "execution_count": 5,
   "metadata": {},
   "outputs": [],
   "source": [
    "from IPython.core.display import HTML, Pretty, Markdown"
   ]
  },
  {
   "cell_type": "code",
   "execution_count": 6,
   "metadata": {},
   "outputs": [],
   "source": [
    "endpoint = \"http://phoenix:6006/v1/traces\"  # Phoenix receiver address\n",
    "\n",
    "tracer_provider = trace_sdk.TracerProvider()\n",
    "tracer_provider.add_span_processor(SimpleSpanProcessor(OTLPSpanExporter(endpoint)))\n",
    "\n",
    "LlamaIndexInstrumentor().instrument(tracer_provider=tracer_provider)"
   ]
  },
  {
   "cell_type": "code",
   "execution_count": 7,
   "metadata": {},
   "outputs": [],
   "source": [
    "file_details = {\n",
    "    \"2Q24 Earnings Release_Final.pdf\": \"2nd quarter 2024 earnings release Final of PNC Bank with detailed financial information for first two quarters of year 2024.\",\n",
    "    \"2Q24 Financial Supplement_Final.pdf\": \"Supplemental data for 2nd quarter 2024 earnings release Final of PNC Bank with financial tables.\",\n",
    "    \"Board of Directors  PNC.pdf\": \"PNC Bank Board of Directors member information.\",\n",
    "    \"PNC 2023 10-K.pdf\": \"PNC Bank Form 10-K report for year 2023.\",\n",
    "    \"PNC 2023 Annual Report.pdf\": \"PNC Bank detailed Annual Report for year 2023.\",\n",
    "    \"pnc_privacy_notice.pdf\": \"Information on what kind of customer personal information PNC Bank share and not.\",\n",
    "}\n",
    "def get_meta(filename):\n",
    "    return {\n",
    "        \"file_path\": filename,\n",
    "        \"file_details\": file_details.get(\n",
    "            Path(filename).name, \"\"\n",
    "        ),\n",
    "    }"
   ]
  },
  {
   "cell_type": "code",
   "execution_count": 7,
   "metadata": {},
   "outputs": [],
   "source": [
    "# custom_schema = IndexSchema.from_dict(\n",
    "#     {\n",
    "#         # customize basic index specs\n",
    "#         \"index\": {\n",
    "#             \"name\": \"user-index\",\n",
    "#             \"prefix\": \"index\",\n",
    "#             \"key_separator\": \":\",\n",
    "#         },\n",
    "#         # customize fields that are indexed\n",
    "#         \"fields\": [\n",
    "#             # required fields for llamaindex\n",
    "#             {\"type\": \"tag\", \"name\": \"id\"},\n",
    "#             {\"type\": \"tag\", \"name\": \"doc_id\"},\n",
    "#             {\"type\": \"text\", \"name\": \"text\"},\n",
    "#             # custom metadata fields\n",
    "#             {\"type\": \"numeric\", \"name\": \"updated_at\"},\n",
    "#             {\"type\": \"tag\", \"name\": \"file_name\"},\n",
    "#             # custom vector field definition for cohere embeddings\n",
    "#             {\n",
    "#                 \"type\": \"vector\",\n",
    "#                 \"name\": \"vector\",\n",
    "#                 \"attrs\": {\n",
    "#                     \"dims\": 768,\n",
    "#                     \"algorithm\": \"hnsw\",\n",
    "#                     \"distance_metric\": \"cosine\",\n",
    "#                 },\n",
    "#             },\n",
    "#         ],\n",
    "#     }\n",
    "# )"
   ]
  },
  {
   "cell_type": "code",
   "execution_count": 8,
   "metadata": {},
   "outputs": [],
   "source": [
    "# storage_context = StorageContext.from_defaults(\n",
    "#     docstore=RedisDocumentStore.from_host_and_port(\n",
    "#         host=REDIS_HOST, port=REDIS_PORT, namespace=\"llama_index\"\n",
    "#     ),\n",
    "#     index_store=RedisIndexStore.from_host_and_port(\n",
    "#         host=REDIS_HOST, port=REDIS_PORT, namespace=\"llama_index\"\n",
    "#     ),\n",
    "#     vector_store=RedisVectorStore(redis_client=Redis.from_url(f\"redis://{REDIS_HOST}:{REDIS_PORT}\"), \n",
    "#                                   overwrite=True,\n",
    "#                                   schema=custom_schema\n",
    "#                                   )\n",
    "# )"
   ]
  },
  {
   "cell_type": "code",
   "execution_count": 9,
   "metadata": {},
   "outputs": [],
   "source": [
    "# PDF Reader with `SimpleDirectoryReader`\n",
    "parser = PyMuPDFReader()\n",
    "file_extractor = {\".pdf\": parser}"
   ]
  },
  {
   "cell_type": "code",
   "execution_count": 10,
   "metadata": {},
   "outputs": [],
   "source": [
    "documents = SimpleDirectoryReader(\n",
    "    \"./pnc\", file_metadata=get_meta, file_extractor=file_extractor\n",
    ").load_data()"
   ]
  },
  {
   "cell_type": "code",
   "execution_count": 21,
   "metadata": {
    "scrolled": true
   },
   "outputs": [
    {
     "data": {
      "text/plain": [
       "Document(id_='6e5aaf33-91e9-4d2e-9f34-3e5e456bd1a8', embedding=None, metadata={'file_path': '/home/docqa/app/pnc/2Q24 Earnings Release_Final.pdf', 'file_details': '2nd quarter 2024 earnings release Final of PNC Bank with detailed financial information for first two quarters of year 2024.', 'total_pages': 18, 'source': '1'}, excluded_embed_metadata_keys=['file_name', 'file_type', 'file_size', 'creation_date', 'last_modified_date', 'last_accessed_date'], excluded_llm_metadata_keys=['file_name', 'file_type', 'file_size', 'creation_date', 'last_modified_date', 'last_accessed_date'], relationships={}, text='PNC Reports Second Quarter 2024 Net Income of $1.5 Billion, $3.39 Diluted EPS\\n   Generated positive operating leverage; grew NII and NIM; maintained 2.5% SCB requirement\\nIncreased quarterly common stock dividend 5 cents to $1.60 per share on July 2, 2024\\n PITTSBURGH, July 16, 2024 – The PNC Financial Services Group, Inc. (NYSE: PNC) today reported:\\nFor the quarter\\nIn millions, except per share data and as noted\\n2Q24\\n1Q24\\n2Q23\\nSecond Quarter Highlights\\nFinancial Results\\nComparisons reflect 2Q24 vs. 1Q24\\nNet interest income (NII)\\n$ \\n3,302 \\n$ \\n3,264 \\n$ \\n3,510 \\nIncome Statement\\n▪Generated positive operating \\nleverage; PPNR increased 13%\\n▪Revenue increased 5%\\n– NII and NIM increased\\n▪Noninterest expense increased 1%\\n▪Gain on Visa share exchange of \\n$754 million substantially offset by \\nother significant items, resulting in a \\n9 cent benefit to EPS\\nBalance Sheet \\n▪Average loans and deposits were \\nrelatively stable\\n▪Average securities increased 4%\\n▪Net loan charge-offs were $262 \\nmillion, or 0.33% annualized to \\naverage loans\\n▪ACL to total loans stable at 1.7%\\n▪AOCI improved $0.6 billion, including \\nsecurities repositioning impact\\n▪TBV per share increased 4%\\n▪Maintained strong capital position\\n– CET1 capital ratio of 10.2%\\n– Maintained regulatory minimum \\nStress Capital Buffer (SCB) of \\n2.5%\\n– Increased quarterly common stock \\ndividend 5 cents to $1.60 per \\nshare on July 2, 2024\\nNoninterest income\\n \\n2,109 \\n \\n1,881 \\n \\n1,783 \\nRevenue\\n \\n5,411 \\n \\n5,145 \\n \\n5,293 \\nNoninterest expense\\n \\n3,357 \\n \\n3,334 \\n \\n3,372 \\nPretax, pre-provision earnings (PPNR) (non-GAAP)\\n \\n2,054 \\n \\n1,811 \\n \\n1,921 \\nProvision for credit losses\\n \\n235 \\n \\n155 \\n \\n146 \\nNet income \\n \\n1,477 \\n \\n1,344 \\n \\n1,500 \\nPer Common Share \\nDiluted earnings per share (EPS)\\n$ \\n3.39 \\n$ \\n3.10 \\n$ \\n3.36 \\nAverage diluted common shares outstanding\\n \\n400 \\n \\n400 \\n \\n401 \\nBook value\\n \\n116.70 \\n \\n113.30 \\n \\n105.67 \\nTangible book value (TBV) (non-GAAP)\\n \\n89.12 \\n \\n85.70 \\n \\n77.80 \\nBalance Sheet & Credit Quality \\nAverage loans    In billions\\n$ \\n319.9 \\n$ \\n320.6 \\n$ \\n324.5 \\nAverage securities    In billions\\n \\n141.3 \\n \\n135.4 \\n \\n141.0 \\nAverage deposits    In billions\\n \\n417.2 \\n \\n420.2 \\n \\n425.7 \\nAccumulated other comprehensive income (loss) (AOCI) \\nIn billions\\n \\n(7.4) \\n \\n(8.0) \\n \\n(9.5) \\nNet loan charge-offs\\n \\n262 \\n \\n243 \\n \\n194 \\nAllowance for credit losses (ACL) to total loans\\n 1.67 %\\n 1.68 %\\n 1.68 %\\nSelected Ratios\\nReturn on average common shareholders’ equity\\n 12.16 %\\n 11.39 %\\n 13.01 %\\nReturn on average assets\\n 1.05 \\n 0.97 \\n 1.08 \\nNet interest margin (NIM) (non-GAAP)\\n 2.60 \\n 2.57 \\n 2.79 \\nNoninterest income to total revenue\\n 39 \\n 37 \\n 34 \\nEfficiency\\n 62 \\n 65 \\n 64 \\nCommon equity Tier 1 (CET1) capital ratio\\n 10.2 \\n 10.1 \\n 9.5 \\nSee non-GAAP financial measures in the Consolidated Financial Highlights accompanying this release.\\nFrom Bill Demchak, PNC Chairman and Chief Executive Officer:\\n“PNC delivered strong results in the second quarter; generating positive operating leverage through revenue \\ngrowth and well controlled expenses while adding customers, and strengthening our capital levels. Importantly, net \\ninterest income and net interest margin increased, marking the beginning of our growth trajectory towards \\nexpected record NII in 2025. In June, the Federal Reserve announced the results of the annual stress test and \\nPNC’s start-to-trough CET1 ratio depletion was 1.6%, the best in our peer group. And earlier this month, our board \\napproved a 5 cent increase to our quarterly common stock dividend.” \\n- more -\\n', mimetype='text/plain', start_char_idx=None, end_char_idx=None, text_template='{metadata_str}\\n\\n{content}', metadata_template='{key}: {value}', metadata_seperator='\\n')"
      ]
     },
     "execution_count": 21,
     "metadata": {},
     "output_type": "execute_result"
    }
   ],
   "source": [
    "documents[0]"
   ]
  },
  {
   "cell_type": "code",
   "execution_count": 35,
   "metadata": {
    "scrolled": true
   },
   "outputs": [
    {
     "data": {
      "text/plain": [
       "'#################### Page 0 ####################'"
      ]
     },
     "metadata": {},
     "output_type": "display_data"
    },
    {
     "data": {
      "text/plain": [
       "PNC Reports Second Quarter 2024 Net Income of $1.5 Billion, $3.39 Diluted EPS\n",
       "   Generated positive operating leverage; grew NII and NIM; maintained 2.5% SCB requirement\n",
       "Increased quarterly common stock dividend 5 cents to $1.60 per share on July 2, 2024\n",
       " PITTSBURGH, July 16, 2024 – The PNC Financial Services Group, Inc. (NYSE: PNC) today reported:\n",
       "For the quarter\n",
       "In millions, except per share data and as noted\n",
       "2Q24\n",
       "1Q24\n",
       "2Q23\n",
       "Second Quarter Highlights\n",
       "Financial Results\n",
       "Comparisons reflect 2Q24 vs. 1Q24\n",
       "Net interest income (NII)\n",
       "$ \n",
       "3,302 \n",
       "$ \n",
       "3,264 \n",
       "$ \n",
       "3,510 \n",
       "Income Statement\n",
       "▪Generated positive operating \n",
       "leverage; PPNR increased 13%\n",
       "▪Revenue increased 5%\n",
       "– NII and NIM increased\n",
       "▪Noninterest expense increased 1%\n",
       "▪Gain on Visa share exchange of \n",
       "$754 million substantially offset by \n",
       "other significant items, resulting in a \n",
       "9 cent benefit to EPS\n",
       "Balance Sheet \n",
       "▪Average loans and deposits were \n",
       "relatively stable\n",
       "▪Average securities increased 4%\n",
       "▪Net loan charge-offs were $262 \n",
       "million, or 0.33% annualized to \n",
       "average loans\n",
       "▪ACL to total loans stable at 1.7%\n",
       "▪AOCI improved $0.6 billion, including \n",
       "securities repositioning impact\n",
       "▪TBV per share increased 4%\n",
       "▪Maintained strong capital position\n",
       "– CET1 capital ratio of 10.2%\n",
       "– Maintained regulatory minimum \n",
       "Stress Capital Buffer (SCB) of \n",
       "2.5%\n",
       "– Increased quarterly common stock \n",
       "dividend 5 cents to $1.60 per \n",
       "share on July 2, 2024\n",
       "Noninterest income\n",
       " \n",
       "2,109 \n",
       " \n",
       "1,881 \n",
       " \n",
       "1,783 \n",
       "Revenue\n",
       " \n",
       "5,411 \n",
       " \n",
       "5,145 \n",
       " \n",
       "5,293 \n",
       "Noninterest expense\n",
       " \n",
       "3,357 \n",
       " \n",
       "3,334 \n",
       " \n",
       "3,372 \n",
       "Pretax, pre-provision earnings (PPNR) (non-GAAP)\n",
       " \n",
       "2,054 \n",
       " \n",
       "1,811 \n",
       " \n",
       "1,921 \n",
       "Provision for credit losses\n",
       " \n",
       "235 \n",
       " \n",
       "155 \n",
       " \n",
       "146 \n",
       "Net income \n",
       " \n",
       "1,477 \n",
       " \n",
       "1,344 \n",
       " \n",
       "1,500 \n",
       "Per Common Share \n",
       "Diluted earnings per share (EPS)\n",
       "$ \n",
       "3.39 \n",
       "$ \n",
       "3.10 \n",
       "$ \n",
       "3.36 \n",
       "Average diluted common shares outstanding\n",
       " \n",
       "400 \n",
       " \n",
       "400 \n",
       " \n",
       "401 \n",
       "Book value\n",
       " \n",
       "116.70 \n",
       " \n",
       "113.30 \n",
       " \n",
       "105.67 \n",
       "Tangible book value (TBV) (non-GAAP)\n",
       " \n",
       "89.12 \n",
       " \n",
       "85.70 \n",
       " \n",
       "77.80 \n",
       "Balance Sheet & Credit Quality \n",
       "Average loans    In billions\n",
       "$ \n",
       "319.9 \n",
       "$ \n",
       "320.6 \n",
       "$ \n",
       "324.5 \n",
       "Average securities    In billions\n",
       " \n",
       "141.3 \n",
       " \n",
       "135.4 \n",
       " \n",
       "141.0 \n",
       "Average deposits    In billions\n",
       " \n",
       "417.2 \n",
       " \n",
       "420.2 \n",
       " \n",
       "425.7 \n",
       "Accumulated other comprehensive income (loss) (AOCI) \n",
       "In billions\n",
       " \n",
       "(7.4) \n",
       " \n",
       "(8.0) \n",
       " \n",
       "(9.5) \n",
       "Net loan charge-offs\n",
       " \n",
       "262 \n",
       " \n",
       "243 \n",
       " \n",
       "194 \n",
       "Allowance for credit losses (ACL) to total loans\n",
       " 1.67 %\n",
       " 1.68 %\n",
       " 1.68 %\n",
       "Selected Ratios\n",
       "Return on average common shareholders’ equity\n",
       " 12.16 %\n",
       " 11.39 %\n",
       " 13.01 %\n",
       "Return on average assets\n",
       " 1.05 \n",
       " 0.97 \n",
       " 1.08 \n",
       "Net interest margin (NIM) (non-GAAP)\n",
       " 2.60 \n",
       " 2.57 \n",
       " 2.79 \n",
       "Noninterest income to total revenue\n",
       " 39 \n",
       " 37 \n",
       " 34 \n",
       "Efficiency\n",
       " 62 \n",
       " 65 \n",
       " 64 \n",
       "Common equity Tier 1 (CET1) capital ratio\n",
       " 10.2 \n",
       " 10.1 \n",
       " 9.5 \n",
       "See non-GAAP financial measures in the Consolidated Financial Highlights accompanying this release.\n",
       "From Bill Demchak, PNC Chairman and Chief Executive Officer:\n",
       "“PNC delivered strong results in the second quarter; generating positive operating leverage through revenue \n",
       "growth and well controlled expenses while adding customers, and strengthening our capital levels. Importantly, net \n",
       "interest income and net interest margin increased, marking the beginning of our growth trajectory towards \n",
       "expected record NII in 2025. In June, the Federal Reserve announced the results of the annual stress test and \n",
       "PNC’s start-to-trough CET1 ratio depletion was 1.6%, the best in our peer group. And earlier this month, our board \n",
       "approved a 5 cent increase to our quarterly common stock dividend.” \n",
       "- more -\n"
      ]
     },
     "metadata": {},
     "output_type": "display_data"
    },
    {
     "data": {
      "text/plain": [
       "'#################### Page 1 ####################'"
      ]
     },
     "metadata": {},
     "output_type": "display_data"
    },
    {
     "data": {
      "text/plain": [
       "Significant Items\n",
       "In the second quarter of 2024, PNC participated in the Visa exchange program, allowing PNC to monetize \n",
       "50% of its Visa Class B-1 shares and converting its remaining holdings into 1.8 million of Visa Class B-2 shares. The \n",
       "exchange resulted in a gain of $754 million. The second quarter of 2024 also included Visa Class B-2 derivative fair \n",
       "value adjustments of negative $116 million, primarily related to the extension of anticipated litigation resolution timing, \n",
       "and a $120 million expense related to a PNC Foundation contribution. During the quarter, PNC also repositioned the \n",
       "investment securities portfolio, selling available-for-sale securities with a market value of $3.8 billion and a weighted \n",
       "average yield of approximately 1.5%. The sale of securities resulted in a loss of $497 million. PNC redeployed the \n",
       "sale proceeds into available-for-sale securities with a market value of $3.8 billion and a weighted average yield of \n",
       "approximately 5.5%. The combined net income impact of these significant items was $35 million, or $0.09 per \n",
       "common share. \n",
       "Income Statement Impact of Significant Items\n",
       "In millions\n",
       "2Q24\n",
       "Noninterest Income\n",
       "Significant items impacting Other Noninterest Income\n",
       "Gain on exchange of Visa Class B-1 shares\n",
       "$ \n",
       "754 \n",
       "Visa Class B-2 derivative fair value adjustments\n",
       " \n",
       "(116) \n",
       "Loss on sale of securities\n",
       " \n",
       "(497) \n",
       "Noninterest income increase from significant items\n",
       "$ \n",
       "141 \n",
       "Noninterest Expense\n",
       "Significant items impacting Other Noninterest Expense\n",
       "Contribution to PNC Foundation\n",
       "$ \n",
       "120 \n",
       "Noninterest expense increase from significant items\n",
       "$ \n",
       "120 \n",
       "Net Income and EPS\n",
       "Pretax, pre-provision impact of significant items\n",
       "$ \n",
       "21 \n",
       "Tax impact of significant items\n",
       " \n",
       "14 \n",
       "Net Income increase from significant items\n",
       "$ \n",
       "35 \n",
       "EPS impact of significant items\n",
       "$ \n",
       "0.09 \n",
       "Tax impact of significant items includes the benefit of shares donated to the PNC Foundation, \n",
       "partially offset by the tax impact of pretax, pre-provision significant items at a statutory tax rate of \n",
       "21%.\n",
       "Income Statement Highlights\n",
       "Second quarter 2024 compared with first quarter 2024\n",
       "▪\n",
       "Total revenue of $5.4 billion increased $266 million, or 5%, due to higher noninterest and net interest income.\n",
       "▪\n",
       "Net interest income of $3.3 billion increased $38 million, or 1%, reflecting higher yields on interest-earning assets.\n",
       "–\n",
       "Net interest margin of 2.60% increased 3 basis points.\n",
       "▪\n",
       "Noninterest income of $2.1 billion increased $228 million, or 12%.\n",
       "–\n",
       "Fee income of $1.8 billion increased $31 million, or 2%, primarily due to seasonally higher card and cash \n",
       "management fees and increased capital markets and advisory activity, partially offset by lower residential \n",
       "mortgage revenue. \n",
       "–\n",
       "Other noninterest income of $332 million increased $197 million reflecting the impact of $141 million of \n",
       "significant items in the second quarter of 2024.\n",
       "PNC Reports Second Quarter 2024 Net Income of $1.5 Billion, $3.39 Diluted EPS – Page 2\n",
       "- more -\n"
      ]
     },
     "metadata": {},
     "output_type": "display_data"
    },
    {
     "data": {
      "text/plain": [
       "'#################### Page 2 ####################'"
      ]
     },
     "metadata": {},
     "output_type": "display_data"
    },
    {
     "data": {
      "text/plain": [
       "▪\n",
       "Noninterest expense of $3.4 billion increased $23 million, or 1%, and included a $120 million PNC Foundation \n",
       "contribution expense in the second quarter of 2024, while the first quarter included a $130 million FDIC special \n",
       "assessment expense. \n",
       "▪\n",
       "Provision for credit losses was $235 million in the second quarter, primarily reflecting the impact of portfolio \n",
       "activity. The first quarter of 2024 included a provision for credit losses of $155 million.   \n",
       "▪\n",
       "The effective tax rate was 18.8% for both the second and first quarter.\n",
       "Balance Sheet Highlights\n",
       "Second quarter 2024 compared with first quarter 2024 or June 30, 2024 compared with March 31, 2024\n",
       "▪\n",
       "Average loans of $319.9 billion were stable, reflecting average commercial loans of $219.1 billion and average \n",
       "consumer loans of $100.8 billion. \n",
       "▪\n",
       "Credit quality performance:\n",
       "–\n",
       "Delinquencies of $1.3 billion were stable.\n",
       "–\n",
       "Total nonperforming loans of $2.5 billion increased $123 million, or 5%, primarily due to higher commercial \n",
       "nonperforming loans. \n",
       "–\n",
       "Net loan charge-offs of $262 million increased $19 million, primarily due to higher commercial real estate net \n",
       "loan charge-offs.\n",
       "–\n",
       "The allowance for credit losses of $5.4 billion was relatively stable. The allowance for credit losses to total \n",
       "loans was 1.67% at June 30, 2024 and 1.68% at March 31, 2024.\n",
       "▪\n",
       "Average investment securities of $141.3 billion increased $5.9 billion, or 4%, reflecting net purchase activity, \n",
       "primarily of U.S. Treasury securities. \n",
       "▪\n",
       "Average Federal Reserve Bank balances of $40.7 billion decreased $7.1 billion, primarily reflecting net securities \n",
       "purchases. \n",
       "▪\n",
       "Average deposits of $417.2 billion were relatively stable and included seasonal declines in corporate deposits. \n",
       "▪\n",
       "Average borrowed funds of $77.5 billion increased $1.9 billion, or 2%, reflecting parent company senior debt \n",
       "issuances.\n",
       "▪\n",
       "PNC maintained a strong capital and liquidity position.\n",
       "–\n",
       "Based on the results of the Federal Reserve’s 2024 annual stress test, PNC’s SCB for the four-quarter period \n",
       "beginning October 1, 2024 will remain at the regulatory minimum of 2.5%. \n",
       "–\n",
       "On July 2, 2024, the PNC board of directors raised the quarterly cash dividend on common stock to $1.60 per \n",
       "share, an increase of 5 cents per share. The dividend is payable on August 5, 2024 to shareholders of record \n",
       "at the close of business July 15, 2024.\n",
       "–\n",
       "PNC returned $0.7 billion of capital to shareholders, reflecting $0.6 billion of dividends on common shares \n",
       "and $0.1 billion of common share repurchases, representing 0.7 million shares.\n",
       "–\n",
       "The Basel III common equity Tier 1 capital ratio was an estimated 10.2% at June 30, 2024 and was 10.1% at \n",
       "March 31, 2024.\n",
       "–\n",
       "PNC’s average LCR for the three months ended June 30, 2024 was 108%, exceeding the regulatory \n",
       "minimum requirement throughout the quarter.\n",
       "PNC Reports Second Quarter 2024 Net Income of $1.5 Billion, $3.39 Diluted EPS – Page 3\n",
       "- more -\n"
      ]
     },
     "metadata": {},
     "output_type": "display_data"
    }
   ],
   "source": [
    "for i in range(3):\n",
    "    display(f\"{'#' * 20} Page {i} {'#' * 20}\")\n",
    "    display(Pretty(documents[i].text))"
   ]
  },
  {
   "cell_type": "code",
   "execution_count": 50,
   "metadata": {
    "scrolled": true
   },
   "outputs": [
    {
     "data": {
      "text/plain": [
       "'#################### Page 0 ####################'"
      ]
     },
     "metadata": {},
     "output_type": "display_data"
    },
    {
     "data": {
      "text/plain": [
       "PNC Reports Second Quarter 2024 Net Income of $1.5 Billion, $3.39 Diluted EPS\n",
       "   Generated positive operating leverage; grew NII and NIM; maintained 2.5% SCB requirement\n",
       "Increased quarterly common stock dividend 5 cents to $1.60 per share on July 2, 2024\n",
       " PITTSBURGH, July 16, 2024 – The PNC Financial Services Group, Inc. (NYSE: PNC) today reported:\n",
       "For the quarter\n",
       "In millions, except per share data and as noted\n",
       "2Q24\n",
       "1Q24\n",
       "2Q23\n",
       "Second Quarter Highlights\n",
       "Financial Results\n",
       "Comparisons reflect 2Q24 vs. 1Q24\n",
       "Net interest income (NII)\n",
       "$ \n",
       "3,302 \n",
       "$ \n",
       "3,264 \n",
       "$ \n",
       "3,510 \n",
       "Income Statement\n",
       "▪Generated positive operating \n",
       "leverage; PPNR increased 13%\n",
       "▪Revenue increased 5%\n",
       "– NII and NIM increased\n",
       "▪Noninterest expense increased 1%\n",
       "▪Gain on Visa share exchange of \n",
       "$754 million substantially offset by \n",
       "other significant items, resulting in a \n",
       "9 cent benefit to EPS\n",
       "Balance Sheet \n",
       "▪Average loans and deposits were \n",
       "relatively stable\n",
       "▪Average securities increased 4%\n",
       "▪Net loan charge-offs were $262 \n",
       "million, or 0.33% annualized to \n",
       "average loans\n",
       "▪ACL to total loans stable at 1.7%\n",
       "▪AOCI improved $0.6 billion, including \n",
       "securities repositioning impact\n",
       "▪TBV per share increased 4%\n",
       "▪Maintained strong capital position\n",
       "– CET1 capital ratio of 10.2%\n",
       "– Maintained regulatory minimum \n",
       "Stress Capital Buffer (SCB) of \n",
       "2.5%\n",
       "– Increased quarterly common stock \n",
       "dividend 5 cents to $1.60 per \n",
       "share on July 2, 2024\n",
       "Noninterest income\n",
       " \n",
       "2,109 \n",
       " \n",
       "1,881 \n",
       " \n",
       "1,783 \n",
       "Revenue\n",
       " \n",
       "5,411 \n",
       " \n",
       "5,145 \n",
       " \n",
       "5,293 \n",
       "Noninterest expense\n",
       " \n",
       "3,357 \n",
       " \n",
       "3,334 \n",
       " \n",
       "3,372 \n",
       "Pretax, pre-provision earnings (PPNR) (non-GAAP)\n",
       " \n",
       "2,054 \n",
       " \n",
       "1,811 \n",
       " \n",
       "1,921 \n",
       "Provision for credit losses\n",
       " \n",
       "235 \n",
       " \n",
       "155 \n",
       " \n",
       "146 \n",
       "Net income \n",
       " \n",
       "1,477 \n",
       " \n",
       "1,344 \n",
       " \n",
       "1,500 \n",
       "Per Common Share \n",
       "Diluted earnings per share (EPS)\n",
       "$ \n",
       "3.39 \n",
       "$ \n",
       "3.10 \n",
       "$ \n",
       "3.36 \n",
       "Average diluted common shares outstanding\n",
       " \n",
       "400 \n",
       " \n",
       "400 \n",
       " \n",
       "401 \n",
       "Book value\n",
       " \n",
       "116.70 \n",
       " \n",
       "113.30 \n",
       " \n",
       "105.67 \n",
       "Tangible book value (TBV) (non-GAAP)\n",
       " \n",
       "89.12 \n",
       " \n",
       "85.70 \n",
       " \n",
       "77.80 \n",
       "Balance Sheet & Credit Quality \n",
       "Average loans    In billions\n",
       "$ \n",
       "319.9 \n",
       "$ \n",
       "320.6 \n",
       "$ \n",
       "324.5 \n",
       "Average securities    In billions\n",
       " \n",
       "141.3 \n",
       " \n",
       "135.4 \n",
       " \n",
       "141.0 \n",
       "Average deposits    In billions\n",
       " \n",
       "417.2 \n",
       " \n",
       "420.2 \n",
       " \n",
       "425.7 \n",
       "Accumulated other comprehensive income (loss) (AOCI) \n",
       "In billions\n",
       " \n",
       "(7.4) \n",
       " \n",
       "(8.0) \n",
       " \n",
       "(9.5) \n",
       "Net loan charge-offs\n",
       " \n",
       "262 \n",
       " \n",
       "243 \n",
       " \n",
       "194 \n",
       "Allowance for credit losses (ACL) to total loans\n",
       " 1.67 %\n",
       " 1.68 %\n",
       " 1.68 %\n",
       "Selected Ratios\n",
       "Return on average common shareholders’ equity\n",
       " 12.16 %\n",
       " 11.39 %\n",
       " 13.01 %\n",
       "Return on average assets\n",
       " 1.05 \n",
       " 0.97 \n",
       " 1.08 \n",
       "Net interest margin (NIM) (non-GAAP)\n",
       " 2.60 \n",
       " 2.57 \n",
       " 2.79 \n",
       "Noninterest income to total revenue\n",
       " 39 \n",
       " 37 \n",
       " 34 \n",
       "Efficiency\n",
       " 62 \n",
       " 65 \n",
       " 64 \n",
       "Common equity Tier 1 (CET1) capital ratio\n",
       " 10.2 \n",
       " 10.1 \n",
       " 9.5 \n",
       "See non-GAAP financial measures in the Consolidated Financial Highlights accompanying this release.\n",
       "From Bill Demchak, PNC Chairman and Chief Executive Officer:\n",
       "“PNC delivered strong results in the second quarter; generating positive operating leverage through revenue \n",
       "growth and well controlled expenses while adding customers, and strengthening our capital levels. Importantly, net \n",
       "interest income and net interest margin increased, marking the beginning of our growth trajectory towards \n",
       "expected record NII in 2025."
      ]
     },
     "metadata": {},
     "output_type": "display_data"
    },
    {
     "data": {
      "text/plain": [
       "'#################### Page 1 ####################'"
      ]
     },
     "metadata": {},
     "output_type": "display_data"
    },
    {
     "data": {
      "text/plain": [
       "From Bill Demchak, PNC Chairman and Chief Executive Officer:\n",
       "“PNC delivered strong results in the second quarter; generating positive operating leverage through revenue \n",
       "growth and well controlled expenses while adding customers, and strengthening our capital levels. Importantly, net \n",
       "interest income and net interest margin increased, marking the beginning of our growth trajectory towards \n",
       "expected record NII in 2025. In June, the Federal Reserve announced the results of the annual stress test and \n",
       "PNC’s start-to-trough CET1 ratio depletion was 1.6%, the best in our peer group. And earlier this month, our board \n",
       "approved a 5 cent increase to our quarterly common stock dividend.” \n",
       "- more -"
      ]
     },
     "metadata": {},
     "output_type": "display_data"
    },
    {
     "data": {
      "text/plain": [
       "'#################### Page 2 ####################'"
      ]
     },
     "metadata": {},
     "output_type": "display_data"
    },
    {
     "data": {
      "text/plain": [
       "Significant Items\n",
       "In the second quarter of 2024, PNC participated in the Visa exchange program, allowing PNC to monetize \n",
       "50% of its Visa Class B-1 shares and converting its remaining holdings into 1.8 million of Visa Class B-2 shares. The \n",
       "exchange resulted in a gain of $754 million. The second quarter of 2024 also included Visa Class B-2 derivative fair \n",
       "value adjustments of negative $116 million, primarily related to the extension of anticipated litigation resolution timing, \n",
       "and a $120 million expense related to a PNC Foundation contribution. During the quarter, PNC also repositioned the \n",
       "investment securities portfolio, selling available-for-sale securities with a market value of $3.8 billion and a weighted \n",
       "average yield of approximately 1.5%. The sale of securities resulted in a loss of $497 million. PNC redeployed the \n",
       "sale proceeds into available-for-sale securities with a market value of $3.8 billion and a weighted average yield of \n",
       "approximately 5.5%. The combined net income impact of these significant items was $35 million, or $0.09 per \n",
       "common share. \n",
       "Income Statement Impact of Significant Items\n",
       "In millions\n",
       "2Q24\n",
       "Noninterest Income\n",
       "Significant items impacting Other Noninterest Income\n",
       "Gain on exchange of Visa Class B-1 shares\n",
       "$ \n",
       "754 \n",
       "Visa Class B-2 derivative fair value adjustments\n",
       " \n",
       "(116) \n",
       "Loss on sale of securities\n",
       " \n",
       "(497) \n",
       "Noninterest income increase from significant items\n",
       "$ \n",
       "141 \n",
       "Noninterest Expense\n",
       "Significant items impacting Other Noninterest Expense\n",
       "Contribution to PNC Foundation\n",
       "$ \n",
       "120 \n",
       "Noninterest expense increase from significant items\n",
       "$ \n",
       "120 \n",
       "Net Income and EPS\n",
       "Pretax, pre-provision impact of significant items\n",
       "$ \n",
       "21 \n",
       "Tax impact of significant items\n",
       " \n",
       "14 \n",
       "Net Income increase from significant items\n",
       "$ \n",
       "35 \n",
       "EPS impact of significant items\n",
       "$ \n",
       "0.09 \n",
       "Tax impact of significant items includes the benefit of shares donated to the PNC Foundation, \n",
       "partially offset by the tax impact of pretax, pre-provision significant items at a statutory tax rate of \n",
       "21%.\n",
       "Income Statement Highlights\n",
       "Second quarter 2024 compared with first quarter 2024\n",
       "▪\n",
       "Total revenue of $5.4 billion increased $266 million, or 5%, due to higher noninterest and net interest income.\n",
       "▪\n",
       "Net interest income of $3.3 billion increased $38 million, or 1%, reflecting higher yields on interest-earning assets.\n",
       "–\n",
       "Net interest margin of 2.60% increased 3 basis points.\n",
       "▪\n",
       "Noninterest income of $2.1 billion increased $228 million, or 12%.\n",
       "–\n",
       "Fee income of $1.8 billion increased $31 million, or 2%, primarily due to seasonally higher card and cash \n",
       "management fees and increased capital markets and advisory activity, partially offset by lower residential \n",
       "mortgage revenue. \n",
       "–\n",
       "Other noninterest income of $332 million increased $197 million reflecting the impact of $141 million of \n",
       "significant items in the second quarter of 2024.\n",
       "PNC Reports Second Quarter 2024 Net Income of $1.5 Billion, $3.39 Diluted EPS – Page 2\n",
       "- more -"
      ]
     },
     "metadata": {},
     "output_type": "display_data"
    },
    {
     "data": {
      "text/plain": [
       "'#################### Page 3 ####################'"
      ]
     },
     "metadata": {},
     "output_type": "display_data"
    },
    {
     "data": {
      "text/plain": [
       "▪\n",
       "Noninterest expense of $3.4 billion increased $23 million, or 1%, and included a $120 million PNC Foundation \n",
       "contribution expense in the second quarter of 2024, while the first quarter included a $130 million FDIC special \n",
       "assessment expense. \n",
       "▪\n",
       "Provision for credit losses was $235 million in the second quarter, primarily reflecting the impact of portfolio \n",
       "activity. The first quarter of 2024 included a provision for credit losses of $155 million.   \n",
       "▪\n",
       "The effective tax rate was 18.8% for both the second and first quarter.\n",
       "Balance Sheet Highlights\n",
       "Second quarter 2024 compared with first quarter 2024 or June 30, 2024 compared with March 31, 2024\n",
       "▪\n",
       "Average loans of $319.9 billion were stable, reflecting average commercial loans of $219.1 billion and average \n",
       "consumer loans of $100.8 billion. \n",
       "▪\n",
       "Credit quality performance:\n",
       "–\n",
       "Delinquencies of $1.3 billion were stable.\n",
       "–\n",
       "Total nonperforming loans of $2.5 billion increased $123 million, or 5%, primarily due to higher commercial \n",
       "nonperforming loans. \n",
       "–\n",
       "Net loan charge-offs of $262 million increased $19 million, primarily due to higher commercial real estate net \n",
       "loan charge-offs.\n",
       "–\n",
       "The allowance for credit losses of $5.4 billion was relatively stable. The allowance for credit losses to total \n",
       "loans was 1.67% at June 30, 2024 and 1.68% at March 31, 2024.\n",
       "▪\n",
       "Average investment securities of $141.3 billion increased $5.9 billion, or 4%, reflecting net purchase activity, \n",
       "primarily of U.S. Treasury securities. \n",
       "▪\n",
       "Average Federal Reserve Bank balances of $40.7 billion decreased $7.1 billion, primarily reflecting net securities \n",
       "purchases. \n",
       "▪\n",
       "Average deposits of $417.2 billion were relatively stable and included seasonal declines in corporate deposits. \n",
       "▪\n",
       "Average borrowed funds of $77.5 billion increased $1.9 billion, or 2%, reflecting parent company senior debt \n",
       "issuances.\n",
       "▪\n",
       "PNC maintained a strong capital and liquidity position.\n",
       "–\n",
       "Based on the results of the Federal Reserve’s 2024 annual stress test, PNC’s SCB for the four-quarter period \n",
       "beginning October 1, 2024 will remain at the regulatory minimum of 2.5%. \n",
       "–\n",
       "On July 2, 2024, the PNC board of directors raised the quarterly cash dividend on common stock to $1.60 per \n",
       "share, an increase of 5 cents per share. The dividend is payable on August 5, 2024 to shareholders of record \n",
       "at the close of business July 15, 2024.\n",
       "–\n",
       "PNC returned $0.7 billion of capital to shareholders, reflecting $0.6 billion of dividends on common shares \n",
       "and $0.1 billion of common share repurchases, representing 0.7 million shares.\n",
       "–\n",
       "The Basel III common equity Tier 1 capital ratio was an estimated 10.2% at June 30, 2024 and was 10.1% at \n",
       "March 31, 2024.\n",
       "–\n",
       "PNC’s average LCR for the three months ended June 30, 2024 was 108%, exceeding the regulatory \n",
       "minimum requirement throughout the quarter.\n",
       "PNC Reports Second Quarter 2024 Net Income of $1.5 Billion, $3.39 Diluted EPS – Page 3\n",
       "- more -"
      ]
     },
     "metadata": {},
     "output_type": "display_data"
    }
   ],
   "source": [
    "nodes = list(index.docstore.docs.values())\n",
    "for i in range(4):\n",
    "    display(f\"{'#' * 20} Page {i} {'#' * 20}\")\n",
    "    display(Pretty(nodes[i].text))"
   ]
  },
  {
   "cell_type": "code",
   "execution_count": 11,
   "metadata": {
    "scrolled": true
   },
   "outputs": [
    {
     "data": {
      "application/vnd.jupyter.widget-view+json": {
       "model_id": "c1f56b53e3ac4739be19204602444216",
       "version_major": 2,
       "version_minor": 0
      },
      "text/plain": [
       "modules.json:   0%|          | 0.00/349 [00:00<?, ?B/s]"
      ]
     },
     "metadata": {},
     "output_type": "display_data"
    },
    {
     "data": {
      "application/vnd.jupyter.widget-view+json": {
       "model_id": "fb395f87c6f24f20ab0ee69fb1b981df",
       "version_major": 2,
       "version_minor": 0
      },
      "text/plain": [
       "config_sentence_transformers.json:   0%|          | 0.00/124 [00:00<?, ?B/s]"
      ]
     },
     "metadata": {},
     "output_type": "display_data"
    },
    {
     "data": {
      "application/vnd.jupyter.widget-view+json": {
       "model_id": "909b3450c84d4292a69d18f953b4f4be",
       "version_major": 2,
       "version_minor": 0
      },
      "text/plain": [
       "README.md:   0%|          | 0.00/94.6k [00:00<?, ?B/s]"
      ]
     },
     "metadata": {},
     "output_type": "display_data"
    },
    {
     "data": {
      "application/vnd.jupyter.widget-view+json": {
       "model_id": "675b617357fb4b4281c7ad85ebca55b1",
       "version_major": 2,
       "version_minor": 0
      },
      "text/plain": [
       "sentence_bert_config.json:   0%|          | 0.00/52.0 [00:00<?, ?B/s]"
      ]
     },
     "metadata": {},
     "output_type": "display_data"
    },
    {
     "data": {
      "application/vnd.jupyter.widget-view+json": {
       "model_id": "bcb8cd5b0e2f417a9415ee74d4e7c5be",
       "version_major": 2,
       "version_minor": 0
      },
      "text/plain": [
       "config.json:   0%|          | 0.00/777 [00:00<?, ?B/s]"
      ]
     },
     "metadata": {},
     "output_type": "display_data"
    },
    {
     "data": {
      "application/vnd.jupyter.widget-view+json": {
       "model_id": "e7afcf492abb45d3a41a5edd4c7fcaf4",
       "version_major": 2,
       "version_minor": 0
      },
      "text/plain": [
       "model.safetensors:   0%|          | 0.00/438M [00:00<?, ?B/s]"
      ]
     },
     "metadata": {},
     "output_type": "display_data"
    },
    {
     "data": {
      "application/vnd.jupyter.widget-view+json": {
       "model_id": "0fc881fae43b4c6c8e097dca81c00fb5",
       "version_major": 2,
       "version_minor": 0
      },
      "text/plain": [
       "tokenizer_config.json:   0%|          | 0.00/366 [00:00<?, ?B/s]"
      ]
     },
     "metadata": {},
     "output_type": "display_data"
    },
    {
     "data": {
      "application/vnd.jupyter.widget-view+json": {
       "model_id": "b98d076ed03a4d299fdb90d9f1642c2c",
       "version_major": 2,
       "version_minor": 0
      },
      "text/plain": [
       "vocab.txt:   0%|          | 0.00/232k [00:00<?, ?B/s]"
      ]
     },
     "metadata": {},
     "output_type": "display_data"
    },
    {
     "data": {
      "application/vnd.jupyter.widget-view+json": {
       "model_id": "bd0d1f8a326a43afa2b8ca547a6939fa",
       "version_major": 2,
       "version_minor": 0
      },
      "text/plain": [
       "tokenizer.json:   0%|          | 0.00/711k [00:00<?, ?B/s]"
      ]
     },
     "metadata": {},
     "output_type": "display_data"
    },
    {
     "data": {
      "application/vnd.jupyter.widget-view+json": {
       "model_id": "a86e3885a2bf46fc81629cdf136fd32a",
       "version_major": 2,
       "version_minor": 0
      },
      "text/plain": [
       "special_tokens_map.json:   0%|          | 0.00/125 [00:00<?, ?B/s]"
      ]
     },
     "metadata": {},
     "output_type": "display_data"
    },
    {
     "data": {
      "application/vnd.jupyter.widget-view+json": {
       "model_id": "1e588feecf294507a857cb6b45167beb",
       "version_major": 2,
       "version_minor": 0
      },
      "text/plain": [
       "1_Pooling/config.json:   0%|          | 0.00/190 [00:00<?, ?B/s]"
      ]
     },
     "metadata": {},
     "output_type": "display_data"
    }
   ],
   "source": [
    "# bge-base embedding model\n",
    "Settings.embed_model = HuggingFaceEmbedding(model_name=\"BAAI/bge-base-en-v1.5\")"
   ]
  },
  {
   "cell_type": "code",
   "execution_count": 12,
   "metadata": {},
   "outputs": [],
   "source": [
    "# Groq\n",
    "Settings.llm = Groq(\n",
    "    model=\"llama-3.1-8b-instant\"\n",
    ")"
   ]
  },
  {
   "cell_type": "code",
   "execution_count": 38,
   "metadata": {
    "scrolled": true
   },
   "outputs": [
    {
     "data": {
      "application/vnd.jupyter.widget-view+json": {
       "model_id": "625ea1ae33cc47dd88c55c5832c78230",
       "version_major": 2,
       "version_minor": 0
      },
      "text/plain": [
       "Parsing nodes:   0%|          | 0/483 [00:00<?, ?it/s]"
      ]
     },
     "metadata": {},
     "output_type": "display_data"
    },
    {
     "data": {
      "application/vnd.jupyter.widget-view+json": {
       "model_id": "cc0428885a4742009e87adc5f74a1bf8",
       "version_major": 2,
       "version_minor": 0
      },
      "text/plain": [
       "Generating embeddings:   0%|          | 0/712 [00:00<?, ?it/s]"
      ]
     },
     "metadata": {},
     "output_type": "display_data"
    }
   ],
   "source": [
    "index = VectorStoreIndex.from_documents(\n",
    "    documents,\n",
    "    show_progress=True,\n",
    "    # storage_context=storage_context\n",
    ")"
   ]
  },
  {
   "cell_type": "code",
   "execution_count": 14,
   "metadata": {},
   "outputs": [],
   "source": [
    "query_engine = index.as_query_engine()"
   ]
  },
  {
   "cell_type": "code",
   "execution_count": 15,
   "metadata": {},
   "outputs": [
    {
     "name": "stdout",
     "output_type": "stream",
     "text": [
      "William S. Demchak is the Chairman & Chief Executive Officer of The PNC Financial Services Group. This is supported by the document, which states: \"William S. Demchak is chairman and chief executive officer of The PNC Financial Services Group, one of the largest diversified financial services companies in the United States.\"\n"
     ]
    }
   ],
   "source": [
    "response = query_engine.query(\n",
    "    \"Who is PNC Chairman? Provide evidence from documents to support your answer.\"\n",
    ")\n",
    "print(response)"
   ]
  },
  {
   "cell_type": "code",
   "execution_count": 16,
   "metadata": {},
   "outputs": [
    {
     "name": "stdout",
     "output_type": "stream",
     "text": [
      "Bryan Salesky has a significant work experience in the technology industry. He co-founded and served as the CEO of Stack AV Co., a developer of autonomous trucking solutions. Prior to this role, he co-founded and served as the CEO of Argo AI, LLC, a self-driving technology platform company. Additionally, he spent over a decade in various roles at leading technology companies, including Google and Carnegie Mellon University's National Robotics Engineering Center (NREC).\n"
     ]
    }
   ],
   "source": [
    "response = query_engine.query(\"Tell me about Bryan Salesky work experiance.\")\n",
    "print(response)"
   ]
  },
  {
   "cell_type": "code",
   "execution_count": 17,
   "metadata": {},
   "outputs": [
    {
     "name": "stdout",
     "output_type": "stream",
     "text": [
      "PNC collects and shares customer personal information for various purposes. This information can include social security numbers, income, account balances, and credit scores. They share this information for their everyday business purposes, such as processing transactions and reporting to credit bureaus. They also share it for marketing purposes, including offering their products and services to customers. Additionally, they share information with affiliates for their everyday business purposes and to market to customers.\n"
     ]
    }
   ],
   "source": [
    "response = query_engine.query(\"What does PNC do with customer personal information?\")\n",
    "print(response)"
   ]
  },
  {
   "cell_type": "code",
   "execution_count": 18,
   "metadata": {},
   "outputs": [
    {
     "name": "stdout",
     "output_type": "stream",
     "text": [
      "According to the provided information, PNC diluted earnings per common share in 2023 was $12.79. This can be found in the \"Basic and Diluted Earnings Per Common Share\" table in the 2023 Annual Report (Table 77).\n"
     ]
    }
   ],
   "source": [
    "response = query_engine.query(\n",
    "    \"What was PNC diluted earnings per common share in 2023? Provide evidence from documents to support your answer.\"\n",
    ")\n",
    "print(response)"
   ]
  },
  {
   "cell_type": "code",
   "execution_count": 19,
   "metadata": {},
   "outputs": [
    {
     "name": "stdout",
     "output_type": "stream",
     "text": [
      "PNC generated record revenue of $21.5 billion in 2023, which is a significant improvement compared to previous years.\n"
     ]
    }
   ],
   "source": [
    "response = query_engine.query(\n",
    "    \"How good PNC revenue was in 2023 compared to previous years?\"\n",
    ")\n",
    "print(response)"
   ]
  },
  {
   "cell_type": "code",
   "execution_count": 20,
   "metadata": {},
   "outputs": [
    {
     "name": "stdout",
     "output_type": "stream",
     "text": [
      "Unfortunately, the provided context information does not contain any data for the first two quarters of 2024. The information available is for the year 2023, specifically the annual reports and Form 10-K documents for that year.\n",
      "\n",
      "However, I can suggest that you may need to obtain additional information or reports from PNC Financial Services Group, Inc. for the year 2024 to answer your query accurately.\n"
     ]
    }
   ],
   "source": [
    "response = query_engine.query(\"Can you print a table showing PNC Revenue, Net Income and Total Non-interst Expenses for first two quarters of 2024? Provide evidence from documents to support your answer.\")\n",
    "print(response)"
   ]
  },
  {
   "cell_type": "markdown",
   "metadata": {},
   "source": [
    "## Unstructured"
   ]
  },
  {
   "cell_type": "code",
   "execution_count": 8,
   "metadata": {},
   "outputs": [],
   "source": [
    "from unstructured.partition.pdf import partition_pdf"
   ]
  },
  {
   "cell_type": "code",
   "execution_count": 22,
   "metadata": {},
   "outputs": [],
   "source": [
    "elements_fast = partition_pdf(\"pnc/2Q24 Earnings Release_Final.pdf\", strategy='fast')"
   ]
  },
  {
   "cell_type": "code",
   "execution_count": 24,
   "metadata": {},
   "outputs": [
    {
     "data": {
      "text/plain": [
       "{'type': 'NarrativeText',\n",
       " 'element_id': 'fce6578771fbe03b05af31caa11158fb',\n",
       " 'text': 'PNC Reports Second Quarter 2024 Net Income of $1.5 Billion, $3.39 Diluted EPS Generated positive operating leverage; grew NII and NIM; maintained 2.5% SCB requirement Increased quarterly common stock dividend 5 cents to $1.60 per share on July 2, 2024',\n",
       " 'metadata': {'coordinates': {'points': ((61.17, 95.77294871999993),\n",
       "    (61.17, 136.63104465999993),\n",
       "    (551.2199999999998, 136.63104465999993),\n",
       "    (551.2199999999998, 95.77294871999993)),\n",
       "   'system': 'PixelSpace',\n",
       "   'layout_width': 612.0,\n",
       "   'layout_height': 792.0},\n",
       "  'file_directory': 'pnc',\n",
       "  'filename': '2Q24 Earnings Release_Final.pdf',\n",
       "  'languages': ['eng'],\n",
       "  'last_modified': '2024-08-23T14:01:08',\n",
       "  'page_number': 1,\n",
       "  'filetype': 'application/pdf'}}"
      ]
     },
     "execution_count": 24,
     "metadata": {},
     "output_type": "execute_result"
    }
   ],
   "source": [
    "elements_fast[0].to_dict()"
   ]
  },
  {
   "cell_type": "code",
   "execution_count": 25,
   "metadata": {},
   "outputs": [
    {
     "data": {
      "text/plain": [
       "'#################### Type NarrativeText ####################'"
      ]
     },
     "metadata": {},
     "output_type": "display_data"
    },
    {
     "data": {
      "text/plain": [
       "PNC Reports Second Quarter 2024 Net Income of $1.5 Billion, $3.39 Diluted EPS Generated positive operating leverage; grew NII and NIM; maintained 2.5% SCB requirement Increased quarterly common stock dividend 5 cents to $1.60 per share on July 2, 2024"
      ]
     },
     "metadata": {},
     "output_type": "display_data"
    },
    {
     "data": {
      "text/plain": [
       "'#################### Type UncategorizedText ####################'"
      ]
     },
     "metadata": {},
     "output_type": "display_data"
    },
    {
     "data": {
      "text/plain": [
       "PITTSBURGH, July 16, 2024 – The PNC Financial Services Group, Inc. (NYSE: PNC) today reported:"
      ]
     },
     "metadata": {},
     "output_type": "display_data"
    },
    {
     "data": {
      "text/plain": [
       "'#################### Type Title ####################'"
      ]
     },
     "metadata": {},
     "output_type": "display_data"
    },
    {
     "data": {
      "text/plain": [
       "For the quarter"
      ]
     },
     "metadata": {},
     "output_type": "display_data"
    },
    {
     "data": {
      "text/plain": [
       "'#################### Type Title ####################'"
      ]
     },
     "metadata": {},
     "output_type": "display_data"
    },
    {
     "data": {
      "text/plain": [
       "In millions, except per share data and as noted"
      ]
     },
     "metadata": {},
     "output_type": "display_data"
    },
    {
     "data": {
      "text/plain": [
       "'#################### Type UncategorizedText ####################'"
      ]
     },
     "metadata": {},
     "output_type": "display_data"
    },
    {
     "data": {
      "text/plain": [
       "2Q24"
      ]
     },
     "metadata": {},
     "output_type": "display_data"
    },
    {
     "data": {
      "text/plain": [
       "'#################### Type UncategorizedText ####################'"
      ]
     },
     "metadata": {},
     "output_type": "display_data"
    },
    {
     "data": {
      "text/plain": [
       "1Q24"
      ]
     },
     "metadata": {},
     "output_type": "display_data"
    },
    {
     "data": {
      "text/plain": [
       "'#################### Type UncategorizedText ####################'"
      ]
     },
     "metadata": {},
     "output_type": "display_data"
    },
    {
     "data": {
      "text/plain": [
       "2Q23"
      ]
     },
     "metadata": {},
     "output_type": "display_data"
    },
    {
     "data": {
      "text/plain": [
       "'#################### Type Title ####################'"
      ]
     },
     "metadata": {},
     "output_type": "display_data"
    },
    {
     "data": {
      "text/plain": [
       "Second Quarter Highlights"
      ]
     },
     "metadata": {},
     "output_type": "display_data"
    },
    {
     "data": {
      "text/plain": [
       "'#################### Type Title ####################'"
      ]
     },
     "metadata": {},
     "output_type": "display_data"
    },
    {
     "data": {
      "text/plain": [
       "Financial Results"
      ]
     },
     "metadata": {},
     "output_type": "display_data"
    },
    {
     "data": {
      "text/plain": [
       "'#################### Type NarrativeText ####################'"
      ]
     },
     "metadata": {},
     "output_type": "display_data"
    },
    {
     "data": {
      "text/plain": [
       "Comparisons reflect 2Q24 vs. 1Q24"
      ]
     },
     "metadata": {},
     "output_type": "display_data"
    },
    {
     "data": {
      "text/plain": [
       "'#################### Type Title ####################'"
      ]
     },
     "metadata": {},
     "output_type": "display_data"
    },
    {
     "data": {
      "text/plain": [
       "Net interest income (NII)"
      ]
     },
     "metadata": {},
     "output_type": "display_data"
    },
    {
     "data": {
      "text/plain": [
       "'#################### Type Title ####################'"
      ]
     },
     "metadata": {},
     "output_type": "display_data"
    },
    {
     "data": {
      "text/plain": [
       "Noninterest income"
      ]
     },
     "metadata": {},
     "output_type": "display_data"
    },
    {
     "data": {
      "text/plain": [
       "'#################### Type UncategorizedText ####################'"
      ]
     },
     "metadata": {},
     "output_type": "display_data"
    },
    {
     "data": {
      "text/plain": [
       "$ 3,302 $ 3,264 $ 3,510"
      ]
     },
     "metadata": {},
     "output_type": "display_data"
    },
    {
     "data": {
      "text/plain": [
       "'#################### Type UncategorizedText ####################'"
      ]
     },
     "metadata": {},
     "output_type": "display_data"
    },
    {
     "data": {
      "text/plain": [
       "2,109"
      ]
     },
     "metadata": {},
     "output_type": "display_data"
    },
    {
     "data": {
      "text/plain": [
       "'#################### Type UncategorizedText ####################'"
      ]
     },
     "metadata": {},
     "output_type": "display_data"
    },
    {
     "data": {
      "text/plain": [
       "1,881"
      ]
     },
     "metadata": {},
     "output_type": "display_data"
    }
   ],
   "source": [
    "for i in range(15):\n",
    "    display(f'{\"#\" *20} Type {elements_fast[i].to_dict()[\"type\"]} {\"#\" * 20}') \n",
    "    display(Pretty(elements_fast[i].to_dict()[\"text\"])) "
   ]
  },
  {
   "cell_type": "code",
   "execution_count": null,
   "metadata": {},
   "outputs": [],
   "source": []
  },
  {
   "cell_type": "code",
   "execution_count": null,
   "metadata": {},
   "outputs": [],
   "source": []
  },
  {
   "cell_type": "code",
   "execution_count": 9,
   "metadata": {},
   "outputs": [
    {
     "data": {
      "application/vnd.jupyter.widget-view+json": {
       "model_id": "1053dab2e05e40edad51d751a95d57a5",
       "version_major": 2,
       "version_minor": 0
      },
      "text/plain": [
       "model.onnx:   0%|          | 0.00/166M [00:00<?, ?B/s]"
      ]
     },
     "metadata": {},
     "output_type": "display_data"
    }
   ],
   "source": [
    "elements = partition_pdf(\"pnc/2Q24 Earnings Release_Final.pdf\", \n",
    "                         strategy='hi_res', \n",
    "                         hi_res_model_name='detectron2_onnx',\n",
    "                        )"
   ]
  },
  {
   "cell_type": "code",
   "execution_count": 10,
   "metadata": {},
   "outputs": [
    {
     "data": {
      "text/plain": [
       "{'type': 'Image',\n",
       " 'element_id': '530cc4f5accb1983607c3b49df80dc17',\n",
       " 'text': 'NEWS RELEASE PNC',\n",
       " 'metadata': {'coordinates': {'points': ((0.0, 2.777777770764563e-05),\n",
       "    (0.0, 215.30558333333323),\n",
       "    (1700.0, 215.30558333333323),\n",
       "    (1700.0, 2.777777770764563e-05)),\n",
       "   'system': 'PixelSpace',\n",
       "   'layout_width': 1700,\n",
       "   'layout_height': 2200},\n",
       "  'last_modified': '2024-08-23T14:01:08',\n",
       "  'filetype': 'application/pdf',\n",
       "  'languages': ['eng'],\n",
       "  'page_number': 1,\n",
       "  'file_directory': 'pnc',\n",
       "  'filename': '2Q24 Earnings Release_Final.pdf'}}"
      ]
     },
     "execution_count": 10,
     "metadata": {},
     "output_type": "execute_result"
    }
   ],
   "source": [
    "elements[0].to_dict()"
   ]
  },
  {
   "cell_type": "code",
   "execution_count": 11,
   "metadata": {},
   "outputs": [
    {
     "data": {
      "text/plain": [
       "'#################### Type Image ####################'"
      ]
     },
     "metadata": {},
     "output_type": "display_data"
    },
    {
     "data": {
      "text/plain": [
       "NEWS RELEASE PNC"
      ]
     },
     "metadata": {},
     "output_type": "display_data"
    },
    {
     "data": {
      "text/plain": [
       "'#################### Type Title ####################'"
      ]
     },
     "metadata": {},
     "output_type": "display_data"
    },
    {
     "data": {
      "text/plain": [
       "PNC Reports Second Quarter 2024 Net Income of $1.5 Billion, $3.39 Diluted EPS Generated positive operating leverage; grew NII and NIM; maintained 2.5% SCB requirement Increased quarterly common stock dividend 5 cents to $1.60 per share on July 2, 2024"
      ]
     },
     "metadata": {},
     "output_type": "display_data"
    },
    {
     "data": {
      "text/plain": [
       "'#################### Type UncategorizedText ####################'"
      ]
     },
     "metadata": {},
     "output_type": "display_data"
    },
    {
     "data": {
      "text/plain": [
       "PITTSBURGH, July 16, 2024 The PNC Financial Services Group, Inc. (NYSE: PNC) today reported:"
      ]
     },
     "metadata": {},
     "output_type": "display_data"
    },
    {
     "data": {
      "text/plain": [
       "'#################### Type NarrativeText ####################'"
      ]
     },
     "metadata": {},
     "output_type": "display_data"
    },
    {
     "data": {
      "text/plain": [
       "PITTSBURGH, July 16, 2024 – The PNC Financial Services Group, Inc. (NYSE: PNC) today reported:"
      ]
     },
     "metadata": {},
     "output_type": "display_data"
    },
    {
     "data": {
      "text/plain": [
       "'#################### Type Title ####################'"
      ]
     },
     "metadata": {},
     "output_type": "display_data"
    },
    {
     "data": {
      "text/plain": [
       "For the quarter"
      ]
     },
     "metadata": {},
     "output_type": "display_data"
    },
    {
     "data": {
      "text/plain": [
       "'#################### Type Table ####################'"
      ]
     },
     "metadata": {},
     "output_type": "display_data"
    },
    {
     "data": {
      "text/plain": [
       "In millions, except per share data and as noted 2Q24 1Q24 2Q23 Second Quarter Highlights Comparisons reflect 2Q24 vs. 1Q24 $ 3,302 $ 3,264 $ 3,510 2,109 1,881 1,783 Income Statement 5,411 3,357 5,145 3,334 5,293 3,372 ▪ Generated positive operating leverage; PPNR increased 13% Pretax, pre-provision earnings (PPNR) (non-GAAP) 2,054 1,811 1,921 ▪ Revenue increased 5% 235 1,477 155 1,344 146 1,500 – NII and NIM increased ▪ Noninterest expense increased 1% ▪ Gain on Visa share exchange of Average diluted common shares outstanding $ 3.39 $ 400 3.10 $ 400 3.36 401 116.70 89.12 113.30 85.70 105.67 77.80 Balance Sheet ▪ Average loans and deposits were relatively stable $ 319.9 $ 320.6 $ 324.5 ▪ Average securities increased 4% Average deposits In billions Accumulated other comprehensive income (loss) (AOCI) In billions Net loan charge-offs 141.3 417.2 (7.4) 262 135.4 420.2 (8.0) 243 141.0 425.7 (9.5) 194 ▪ Net loan charge-offs were $262 million, or 0.33% annualized to average loans ▪ ACL to total loans stable at 1.7% Allowance for credit losses (ACL) to total loans 1.67 % 1.68 % 1.68 % securities repositioning impact Return on average common shareholders’ equity 12.16 % 11.39 % 13.01 % ▪ TBV per share increased 4% 1.05 0.97 1.08 ▪ Maintained strong capital position 2.60 2.57 2.79 – CET1 capital ratio of 10.2% 39 62 10.2 37 65 10.1 34 64 9.5 – Maintained regulatory minimum Stress Capital Buffer (SCB) of 2.5% See non-GAAP financial measures in the Consolidated Financial Highlights accompanying this release."
      ]
     },
     "metadata": {},
     "output_type": "display_data"
    },
    {
     "data": {
      "text/plain": [
       "'#################### Type Title ####################'"
      ]
     },
     "metadata": {},
     "output_type": "display_data"
    },
    {
     "data": {
      "text/plain": [
       "Financial Results"
      ]
     },
     "metadata": {},
     "output_type": "display_data"
    },
    {
     "data": {
      "text/plain": [
       "'#################### Type Title ####################'"
      ]
     },
     "metadata": {},
     "output_type": "display_data"
    },
    {
     "data": {
      "text/plain": [
       "Net interest income (NII)"
      ]
     },
     "metadata": {},
     "output_type": "display_data"
    },
    {
     "data": {
      "text/plain": [
       "'#################### Type Title ####################'"
      ]
     },
     "metadata": {},
     "output_type": "display_data"
    },
    {
     "data": {
      "text/plain": [
       "Noninterest income"
      ]
     },
     "metadata": {},
     "output_type": "display_data"
    },
    {
     "data": {
      "text/plain": [
       "'#################### Type Title ####################'"
      ]
     },
     "metadata": {},
     "output_type": "display_data"
    },
    {
     "data": {
      "text/plain": [
       "Revenue"
      ]
     },
     "metadata": {},
     "output_type": "display_data"
    },
    {
     "data": {
      "text/plain": [
       "'#################### Type Title ####################'"
      ]
     },
     "metadata": {},
     "output_type": "display_data"
    },
    {
     "data": {
      "text/plain": [
       "Noninterest expense"
      ]
     },
     "metadata": {},
     "output_type": "display_data"
    },
    {
     "data": {
      "text/plain": [
       "'#################### Type Title ####################'"
      ]
     },
     "metadata": {},
     "output_type": "display_data"
    },
    {
     "data": {
      "text/plain": [
       "Provision for credit losses Net income"
      ]
     },
     "metadata": {},
     "output_type": "display_data"
    },
    {
     "data": {
      "text/plain": [
       "'#################### Type Title ####################'"
      ]
     },
     "metadata": {},
     "output_type": "display_data"
    },
    {
     "data": {
      "text/plain": [
       "Per Common Share"
      ]
     },
     "metadata": {},
     "output_type": "display_data"
    },
    {
     "data": {
      "text/plain": [
       "'#################### Type NarrativeText ####################'"
      ]
     },
     "metadata": {},
     "output_type": "display_data"
    },
    {
     "data": {
      "text/plain": [
       "$754 million substantially offset by other significant items, resulting in a 9 cent benefit to EPS"
      ]
     },
     "metadata": {},
     "output_type": "display_data"
    },
    {
     "data": {
      "text/plain": [
       "'#################### Type NarrativeText ####################'"
      ]
     },
     "metadata": {},
     "output_type": "display_data"
    },
    {
     "data": {
      "text/plain": [
       "Diluted earnings per share (EPS)"
      ]
     },
     "metadata": {},
     "output_type": "display_data"
    }
   ],
   "source": [
    "for i in range(15):\n",
    "    display(f'{\"#\" *20} Type {elements[i].to_dict()[\"type\"]} {\"#\" * 20}') \n",
    "    display(Pretty(elements[i].to_dict()[\"text\"])) "
   ]
  },
  {
   "cell_type": "code",
   "execution_count": 14,
   "metadata": {},
   "outputs": [
    {
     "data": {
      "text/plain": [
       "'In millions, except per share data and as noted 2Q24 1Q24 2Q23 Second Quarter Highlights Comparisons reflect 2Q24 vs. 1Q24 $ 3,302 $ 3,264 $ 3,510 2,109 1,881 1,783 Income Statement 5,411 3,357 5,145 3,334 5,293 3,372 ▪ Generated positive operating leverage; PPNR increased 13% Pretax, pre-provision earnings (PPNR) (non-GAAP) 2,054 1,811 1,921 ▪ Revenue increased 5% 235 1,477 155 1,344 146 1,500 – NII and NIM increased ▪ Noninterest expense increased 1% ▪ Gain on Visa share exchange of Average diluted common shares outstanding $ 3.39 $ 400 3.10 $ 400 3.36 401 116.70 89.12 113.30 85.70 105.67 77.80 Balance Sheet ▪ Average loans and deposits were relatively stable $ 319.9 $ 320.6 $ 324.5 ▪ Average securities increased 4% Average deposits In billions Accumulated other comprehensive income (loss) (AOCI) In billions Net loan charge-offs 141.3 417.2 (7.4) 262 135.4 420.2 (8.0) 243 141.0 425.7 (9.5) 194 ▪ Net loan charge-offs were $262 million, or 0.33% annualized to average loans ▪ ACL to total loans stable at 1.7% Allowance for credit losses (ACL) to total loans 1.67 % 1.68 % 1.68 % securities repositioning impact Return on average common shareholders’ equity 12.16 % 11.39 % 13.01 % ▪ TBV per share increased 4% 1.05 0.97 1.08 ▪ Maintained strong capital position 2.60 2.57 2.79 – CET1 capital ratio of 10.2% 39 62 10.2 37 65 10.1 34 64 9.5 – Maintained regulatory minimum Stress Capital Buffer (SCB) of 2.5% See non-GAAP financial measures in the Consolidated Financial Highlights accompanying this release.'"
      ]
     },
     "metadata": {},
     "output_type": "display_data"
    },
    {
     "data": {
      "text/plain": [
       "'Average Loans In billions 2Q24 1Q24 2Q23 Change 2Q24 vs 1Q24 Commercial $ 219.1 $ 219.2 $ 223.2 — Consumer 100.8 101.4 101.3 (1) % Total $ 319.9 $ 320.6 $ 324.5 — Change 2Q24 vs 2Q23 (2) % (1) % (1) %'"
      ]
     },
     "metadata": {},
     "output_type": "display_data"
    },
    {
     "data": {
      "text/plain": [
       "'Change 2Q24 vs 2Q24 1Q24 2Q23 1Q24 $ 77.5 $ 75.6 $ 65.7 2 % Avg. borrowed funds to avg. liabilities 15 % 15 % 13 %'"
      ]
     },
     "metadata": {},
     "output_type": "display_data"
    },
    {
     "data": {
      "text/plain": [
       "'Capital June 30, 2024 March 31, 2024 June 30, 2023 Common shareholders’ equity In billions Accumulated other comprehensive income (loss) In billions $ $ 46.4 (7.4) $ $ 45.1 (8.0) $ $ 42.1 (9.5) Basel III common equity Tier 1 capital ratio * 10.2 % 10.1 % 9.5 % Basel III common equity Tier 1 fully implemented capital ratio (estimated) 10.1 % 10.0 % 9.4 %'"
      ]
     },
     "metadata": {},
     "output_type": "display_data"
    },
    {
     "data": {
      "text/plain": [
       "'2Q24 1Q24 2Q23 $ 1,715 $ 1,085 $ 954 1,046 1,121 817 103 97 63 (1,405) (973) (351) Net income excluding noncontrolling interests $ 1,459 $ 1,330 $ 1,483 2Q24 1Q24 2Q23 Change 2Q24 vs 1Q24 Change 2Q24 vs 2Q23 $ 2,709 $ 2,617 $ 2,448 $ 92 $ 261 $ 1,409 $ 764 $ 702 $ 645 $ 707 $ 1,841 $ 1,837 $ 1,904 $ 4 $ $ 27 $ 118 $ (14) $ (91) $ 41 $ 1,715 $ 1,085 $ 954 $ 630 $ 761 $ 96.5 $ 97.2 $ 97.6 $ (0.7) $ $ 249.7 $ 249.0 $ 257.3 $ 0.7 $ $ 138 $ 139 $ 109 $ (1) $ 29'"
      ]
     },
     "metadata": {},
     "output_type": "display_data"
    },
    {
     "ename": "IndexError",
     "evalue": "list index out of range",
     "output_type": "error",
     "traceback": [
      "\u001b[0;31m---------------------------------------------------------------------------\u001b[0m",
      "\u001b[0;31mIndexError\u001b[0m                                Traceback (most recent call last)",
      "Cell \u001b[0;32mIn[14], line 2\u001b[0m\n\u001b[1;32m      1\u001b[0m \u001b[38;5;28;01mfor\u001b[39;00m i \u001b[38;5;129;01min\u001b[39;00m \u001b[38;5;28mrange\u001b[39m(\u001b[38;5;241m1500\u001b[39m):\n\u001b[0;32m----> 2\u001b[0m     \u001b[38;5;28;01mif\u001b[39;00m \u001b[43melements\u001b[49m\u001b[43m[\u001b[49m\u001b[43mi\u001b[49m\u001b[43m]\u001b[49m\u001b[38;5;241m.\u001b[39mto_dict()[\u001b[38;5;124m\"\u001b[39m\u001b[38;5;124mtype\u001b[39m\u001b[38;5;124m\"\u001b[39m] \u001b[38;5;241m==\u001b[39m \u001b[38;5;124m'\u001b[39m\u001b[38;5;124mTable\u001b[39m\u001b[38;5;124m'\u001b[39m:\n\u001b[1;32m      3\u001b[0m         display(elements[i]\u001b[38;5;241m.\u001b[39mto_dict()[\u001b[38;5;124m\"\u001b[39m\u001b[38;5;124mtext\u001b[39m\u001b[38;5;124m\"\u001b[39m])  \n",
      "\u001b[0;31mIndexError\u001b[0m: list index out of range"
     ]
    }
   ],
   "source": [
    "for i in range(1500):\n",
    "    if elements[i].to_dict()[\"type\"] == 'Table':\n",
    "        display(elements[i].to_dict()[\"text\"])  "
   ]
  },
  {
   "cell_type": "code",
   "execution_count": null,
   "metadata": {},
   "outputs": [],
   "source": []
  }
 ],
 "metadata": {
  "kernelspec": {
   "display_name": "Python 3 (ipykernel)",
   "language": "python",
   "name": "python3"
  },
  "language_info": {
   "codemirror_mode": {
    "name": "ipython",
    "version": 3
   },
   "file_extension": ".py",
   "mimetype": "text/x-python",
   "name": "python",
   "nbconvert_exporter": "python",
   "pygments_lexer": "ipython3",
   "version": "3.11.10"
  }
 },
 "nbformat": 4,
 "nbformat_minor": 4
}
